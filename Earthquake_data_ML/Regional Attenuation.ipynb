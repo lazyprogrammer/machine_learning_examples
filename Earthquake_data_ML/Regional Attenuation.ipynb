{
 "cells": [
  {
   "cell_type": "code",
   "execution_count": 1,
   "metadata": {},
   "outputs": [],
   "source": [
    "import numpy as np\n",
    "import pandas as pd\n",
    "import matplotlib.pyplot as plt\n",
    "import seaborn as sns\n",
    "%matplotlib inline"
   ]
  },
  {
   "cell_type": "markdown",
   "metadata": {},
   "source": [
    "**Objective**\n",
    "Attenuation Relations between Iran and Sharjah horizontal peak ground acceleration\n",
    "\n",
    "**Data Description**\n",
    "Dataset consist of 130 earthquakes and 31 variables for the BHRC (Iran) dataset and for the\n",
    "UOSS (Sharjah) dataset there are 130 earthquakes and 25 variable, after removing all the\n",
    "earthquake without time series we finally get 89 earthquake records, These dataset consist\n",
    "details of the earthquake i.e. earthquake number, station name, Un.PGA, time series, longitude,\n",
    "latitude, magnitude type, epicentral distance, depth and effective duration, vs30 (m/s) and fault\n",
    "type etc.  Finally we Apply input from Iran data to 10 developed attenuation equations from\n",
    "literature and compare the output.\n",
    "\n",
    "**Dependent Variable**\n",
    "Peak ground acceleration, Horizontal peak ground acceleration\n",
    "\n",
    "**Independent Variable**\n",
    "earthquake number, station name, Un.PGA, time series, longitude, latitude, magnitude type,\n",
    "epicentral distance, depth and effective duration, vs30 (m/s) and fault type etc.\n",
    "\n",
    "**Proposed model**\n",
    "Ensemble methods is a machine learning technique that combines several base models in order\n",
    "to produce one optimal predictive model. We will design and implement a cutting edge\n",
    "advanced statistical model using random forest algorithm and get the output for the same\n",
    "technique after that, we use another technique to build a new model using KNN and the third\n",
    "model is build using logistic regression. Then we will compare the result of all these algorithm,\n",
    "finally we will build a new model by combining all these three techniques together (Ensemble\n",
    "Technique), so that we can get a more accurate model for our research work."
   ]
  },
  {
   "cell_type": "code",
   "execution_count": 2,
   "metadata": {},
   "outputs": [],
   "source": [
    "final_BHRC = pd.read_excel('waveforms_EDITED.xlsx',sheet_name='Final BHRC')\n"
   ]
  },
  {
   "cell_type": "code",
   "execution_count": 3,
   "metadata": {},
   "outputs": [],
   "source": [
    "final_BHRC.columns = ['Earthquake No.', 'Station Name', 'Record No', 'Date', 'Unknown BHRC',\n",
    "       'Time', 'AM-PM', 'Un. PGA(cm/s/s)', 'Latitude', 'Longitude',\n",
    "       'Epicentral Distance', 'ML', 'MW', 'MN', 'MS', 'mb', 'Reference',\n",
    "       'Station Code']"
   ]
  },
  {
   "cell_type": "code",
   "execution_count": 4,
   "metadata": {},
   "outputs": [
    {
     "data": {
      "text/html": [
       "<div>\n",
       "<style scoped>\n",
       "    .dataframe tbody tr th:only-of-type {\n",
       "        vertical-align: middle;\n",
       "    }\n",
       "\n",
       "    .dataframe tbody tr th {\n",
       "        vertical-align: top;\n",
       "    }\n",
       "\n",
       "    .dataframe thead th {\n",
       "        text-align: right;\n",
       "    }\n",
       "</style>\n",
       "<table border=\"1\" class=\"dataframe\">\n",
       "  <thead>\n",
       "    <tr style=\"text-align: right;\">\n",
       "      <th></th>\n",
       "      <th>Earthquake No.</th>\n",
       "      <th>Station Name</th>\n",
       "      <th>Record No</th>\n",
       "      <th>Date</th>\n",
       "      <th>Unknown BHRC</th>\n",
       "      <th>Time</th>\n",
       "      <th>AM-PM</th>\n",
       "      <th>Un. PGA(cm/s/s)</th>\n",
       "      <th>Latitude</th>\n",
       "      <th>Longitude</th>\n",
       "      <th>Epicentral Distance</th>\n",
       "      <th>ML</th>\n",
       "      <th>MW</th>\n",
       "      <th>MN</th>\n",
       "      <th>MS</th>\n",
       "      <th>mb</th>\n",
       "      <th>Reference</th>\n",
       "      <th>Station Code</th>\n",
       "    </tr>\n",
       "  </thead>\n",
       "  <tbody>\n",
       "    <tr>\n",
       "      <th>0</th>\n",
       "      <td>1</td>\n",
       "      <td>Ban Mazaran</td>\n",
       "      <td>7373/01</td>\n",
       "      <td>2017-11-13</td>\n",
       "      <td>19</td>\n",
       "      <td>04:27:55</td>\n",
       "      <td>AM</td>\n",
       "      <td>63.0</td>\n",
       "      <td>34.49</td>\n",
       "      <td>45.74</td>\n",
       "      <td>22</td>\n",
       "      <td>NaN</td>\n",
       "      <td>4.8</td>\n",
       "      <td>NaN</td>\n",
       "      <td>NaN</td>\n",
       "      <td>NaN</td>\n",
       "      <td>BHRC</td>\n",
       "      <td>GDM</td>\n",
       "    </tr>\n",
       "    <tr>\n",
       "      <th>1</th>\n",
       "      <td>2</td>\n",
       "      <td>Ban Mazaran</td>\n",
       "      <td>7373/02</td>\n",
       "      <td>2017-11-13</td>\n",
       "      <td>19</td>\n",
       "      <td>04:36:12</td>\n",
       "      <td>AM</td>\n",
       "      <td>21.0</td>\n",
       "      <td>34.50</td>\n",
       "      <td>45.78</td>\n",
       "      <td>19</td>\n",
       "      <td>NaN</td>\n",
       "      <td>4.4</td>\n",
       "      <td>NaN</td>\n",
       "      <td>NaN</td>\n",
       "      <td>NaN</td>\n",
       "      <td>BHRC</td>\n",
       "      <td>BIR</td>\n",
       "    </tr>\n",
       "    <tr>\n",
       "      <th>2</th>\n",
       "      <td>3</td>\n",
       "      <td>Javanrood</td>\n",
       "      <td>7398</td>\n",
       "      <td>2017-11-12</td>\n",
       "      <td>7</td>\n",
       "      <td>06:18:16</td>\n",
       "      <td>PM</td>\n",
       "      <td>207.0</td>\n",
       "      <td>34.81</td>\n",
       "      <td>45.91</td>\n",
       "      <td>53</td>\n",
       "      <td>NaN</td>\n",
       "      <td>7.3</td>\n",
       "      <td>NaN</td>\n",
       "      <td>NaN</td>\n",
       "      <td>NaN</td>\n",
       "      <td>BHRC</td>\n",
       "      <td>SAD</td>\n",
       "    </tr>\n",
       "    <tr>\n",
       "      <th>3</th>\n",
       "      <td>4</td>\n",
       "      <td>Faryab</td>\n",
       "      <td>7260</td>\n",
       "      <td>2017-10-23</td>\n",
       "      <td>1</td>\n",
       "      <td>12:24:14</td>\n",
       "      <td>AM</td>\n",
       "      <td>60.0</td>\n",
       "      <td>27.76</td>\n",
       "      <td>57.10</td>\n",
       "      <td>40</td>\n",
       "      <td>NaN</td>\n",
       "      <td>5.4</td>\n",
       "      <td>NaN</td>\n",
       "      <td>NaN</td>\n",
       "      <td>NaN</td>\n",
       "      <td>BHRC</td>\n",
       "      <td>SDD</td>\n",
       "    </tr>\n",
       "    <tr>\n",
       "      <th>4</th>\n",
       "      <td>5</td>\n",
       "      <td>Tikmedash</td>\n",
       "      <td>7253</td>\n",
       "      <td>2017-10-18</td>\n",
       "      <td>2</td>\n",
       "      <td>05:35:35</td>\n",
       "      <td>PM</td>\n",
       "      <td>11.0</td>\n",
       "      <td>37.92</td>\n",
       "      <td>47.10</td>\n",
       "      <td>25</td>\n",
       "      <td>NaN</td>\n",
       "      <td>4.6</td>\n",
       "      <td>NaN</td>\n",
       "      <td>NaN</td>\n",
       "      <td>NaN</td>\n",
       "      <td>BHRC</td>\n",
       "      <td>MHN</td>\n",
       "    </tr>\n",
       "  </tbody>\n",
       "</table>\n",
       "</div>"
      ],
      "text/plain": [
       "   Earthquake No. Station Name Record No       Date  Unknown BHRC      Time  \\\n",
       "0               1  Ban Mazaran   7373/01 2017-11-13            19  04:27:55   \n",
       "1               2  Ban Mazaran   7373/02 2017-11-13            19  04:36:12   \n",
       "2               3    Javanrood      7398 2017-11-12             7  06:18:16   \n",
       "3               4       Faryab      7260 2017-10-23             1  12:24:14   \n",
       "4               5    Tikmedash      7253 2017-10-18             2  05:35:35   \n",
       "\n",
       "  AM-PM  Un. PGA(cm/s/s)  Latitude  Longitude  Epicentral Distance  ML   MW  \\\n",
       "0    AM             63.0     34.49      45.74                   22 NaN  4.8   \n",
       "1    AM             21.0     34.50      45.78                   19 NaN  4.4   \n",
       "2    PM            207.0     34.81      45.91                   53 NaN  7.3   \n",
       "3    AM             60.0     27.76      57.10                   40 NaN  5.4   \n",
       "4    PM             11.0     37.92      47.10                   25 NaN  4.6   \n",
       "\n",
       "   MN  MS  mb Reference Station Code  \n",
       "0 NaN NaN NaN      BHRC          GDM  \n",
       "1 NaN NaN NaN      BHRC          BIR  \n",
       "2 NaN NaN NaN      BHRC          SAD  \n",
       "3 NaN NaN NaN      BHRC          SDD  \n",
       "4 NaN NaN NaN      BHRC          MHN  "
      ]
     },
     "execution_count": 4,
     "metadata": {},
     "output_type": "execute_result"
    }
   ],
   "source": [
    "final_BHRC.head()"
   ]
  },
  {
   "cell_type": "code",
   "execution_count": 5,
   "metadata": {},
   "outputs": [
    {
     "name": "stdout",
     "output_type": "stream",
     "text": [
      "<class 'pandas.core.frame.DataFrame'>\n",
      "RangeIndex: 126 entries, 0 to 125\n",
      "Data columns (total 18 columns):\n",
      "Earthquake No.         126 non-null int64\n",
      "Station Name           126 non-null object\n",
      "Record No              126 non-null object\n",
      "Date                   126 non-null datetime64[ns]\n",
      "Unknown BHRC           126 non-null int64\n",
      "Time                   126 non-null object\n",
      "AM-PM                  126 non-null object\n",
      "Un. PGA(cm/s/s)        126 non-null float64\n",
      "Latitude               126 non-null float64\n",
      "Longitude              126 non-null float64\n",
      "Epicentral Distance    126 non-null int64\n",
      "ML                     12 non-null float64\n",
      "MW                     126 non-null float64\n",
      "MN                     0 non-null float64\n",
      "MS                     0 non-null float64\n",
      "mb                     0 non-null float64\n",
      "Reference              126 non-null object\n",
      "Station Code           126 non-null object\n",
      "dtypes: datetime64[ns](1), float64(8), int64(3), object(6)\n",
      "memory usage: 17.8+ KB\n"
     ]
    }
   ],
   "source": [
    "final_BHRC.info()"
   ]
  },
  {
   "cell_type": "code",
   "execution_count": 6,
   "metadata": {},
   "outputs": [],
   "source": [
    "df = pd.read_excel('Last_Predicted_and_Observed_Outputs.xlsx',sheet_name=0)"
   ]
  },
  {
   "cell_type": "code",
   "execution_count": 7,
   "metadata": {},
   "outputs": [
    {
     "data": {
      "text/html": [
       "<div>\n",
       "<style scoped>\n",
       "    .dataframe tbody tr th:only-of-type {\n",
       "        vertical-align: middle;\n",
       "    }\n",
       "\n",
       "    .dataframe tbody tr th {\n",
       "        vertical-align: top;\n",
       "    }\n",
       "\n",
       "    .dataframe thead th {\n",
       "        text-align: right;\n",
       "    }\n",
       "</style>\n",
       "<table border=\"1\" class=\"dataframe\">\n",
       "  <thead>\n",
       "    <tr style=\"text-align: right;\">\n",
       "      <th></th>\n",
       "      <th>Earthquake No.</th>\n",
       "      <th>Inputs (Iran )</th>\n",
       "      <th>Unnamed: 2</th>\n",
       "      <th>Unnamed: 3</th>\n",
       "      <th>Unnamed: 4</th>\n",
       "      <th>Unnamed: 5</th>\n",
       "      <th>Unnamed: 6</th>\n",
       "      <th>Unnamed: 7</th>\n",
       "      <th>Unnamed: 8</th>\n",
       "      <th>Earthquake magnitude of Sharjah</th>\n",
       "      <th>...</th>\n",
       "      <th>Unnamed: 14</th>\n",
       "      <th>Unnamed: 15</th>\n",
       "      <th>Unnamed: 16</th>\n",
       "      <th>Unnamed: 17</th>\n",
       "      <th>Unnamed: 18</th>\n",
       "      <th>Unnamed: 19</th>\n",
       "      <th>Unnamed: 20</th>\n",
       "      <th>Unnamed: 21</th>\n",
       "      <th>Observed horizontal peak ground acceleration</th>\n",
       "      <th>Unnamed: 23</th>\n",
       "    </tr>\n",
       "  </thead>\n",
       "  <tbody>\n",
       "    <tr>\n",
       "      <th>0</th>\n",
       "      <td>NaN</td>\n",
       "      <td>NaN</td>\n",
       "      <td>NaN</td>\n",
       "      <td>NaN</td>\n",
       "      <td>NaN</td>\n",
       "      <td>NaN</td>\n",
       "      <td>NaN</td>\n",
       "      <td>NaN</td>\n",
       "      <td>NaN</td>\n",
       "      <td>NaN</td>\n",
       "      <td>...</td>\n",
       "      <td>Eq.5</td>\n",
       "      <td>Eq.6</td>\n",
       "      <td>NaN</td>\n",
       "      <td>Eq.7</td>\n",
       "      <td>NaN</td>\n",
       "      <td>Eq.8</td>\n",
       "      <td>Eq.9</td>\n",
       "      <td>Eq.10</td>\n",
       "      <td>NaN</td>\n",
       "      <td>NaN</td>\n",
       "    </tr>\n",
       "    <tr>\n",
       "      <th>1</th>\n",
       "      <td>NaN</td>\n",
       "      <td>Epicentral Distance</td>\n",
       "      <td>ML</td>\n",
       "      <td>MW</td>\n",
       "      <td>Depth</td>\n",
       "      <td>Effective duration (s) L</td>\n",
       "      <td>Effective duration (s)  V</td>\n",
       "      <td>Effective duration (s)  T</td>\n",
       "      <td>Vs30 (m/s)</td>\n",
       "      <td>NaN</td>\n",
       "      <td>...</td>\n",
       "      <td>NaN</td>\n",
       "      <td>PGAH</td>\n",
       "      <td>PGAV</td>\n",
       "      <td>PGAH</td>\n",
       "      <td>PGAV</td>\n",
       "      <td>NaN</td>\n",
       "      <td>NaN</td>\n",
       "      <td>NaN</td>\n",
       "      <td>BHRC(cm/s^2)</td>\n",
       "      <td>UOSS(g)</td>\n",
       "    </tr>\n",
       "    <tr>\n",
       "      <th>2</th>\n",
       "      <td>1.0</td>\n",
       "      <td>19</td>\n",
       "      <td>NaN</td>\n",
       "      <td>4.6</td>\n",
       "      <td>22</td>\n",
       "      <td>2.17</td>\n",
       "      <td>4.61</td>\n",
       "      <td>1.67</td>\n",
       "      <td>891</td>\n",
       "      <td>4.9</td>\n",
       "      <td>...</td>\n",
       "      <td>192.048</td>\n",
       "      <td>58.6606</td>\n",
       "      <td>27.8426</td>\n",
       "      <td>23.5682</td>\n",
       "      <td>10.8638</td>\n",
       "      <td>0.153049</td>\n",
       "      <td>0.0420549</td>\n",
       "      <td>0.0946283</td>\n",
       "      <td>54</td>\n",
       "      <td>0.442468</td>\n",
       "    </tr>\n",
       "    <tr>\n",
       "      <th>3</th>\n",
       "      <td>2.0</td>\n",
       "      <td>21</td>\n",
       "      <td>NaN</td>\n",
       "      <td>5.1</td>\n",
       "      <td>10</td>\n",
       "      <td>11.6</td>\n",
       "      <td>6.62</td>\n",
       "      <td>10.42</td>\n",
       "      <td>NaN</td>\n",
       "      <td>5.1</td>\n",
       "      <td>...</td>\n",
       "      <td>270.187</td>\n",
       "      <td>NaN</td>\n",
       "      <td>NaN</td>\n",
       "      <td>40.2426</td>\n",
       "      <td>18.395</td>\n",
       "      <td>0.670179</td>\n",
       "      <td>0.0523675</td>\n",
       "      <td>NaN</td>\n",
       "      <td>21</td>\n",
       "      <td>0.139353</td>\n",
       "    </tr>\n",
       "    <tr>\n",
       "      <th>4</th>\n",
       "      <td>3.0</td>\n",
       "      <td>70</td>\n",
       "      <td>NaN</td>\n",
       "      <td>5.1</td>\n",
       "      <td>10</td>\n",
       "      <td>14.15</td>\n",
       "      <td>17.13</td>\n",
       "      <td>13.55</td>\n",
       "      <td>514</td>\n",
       "      <td>4.8</td>\n",
       "      <td>...</td>\n",
       "      <td>66.4125</td>\n",
       "      <td>21.3731</td>\n",
       "      <td>10.7709</td>\n",
       "      <td>12.0168</td>\n",
       "      <td>5.57909</td>\n",
       "      <td>0.12928</td>\n",
       "      <td>0.0188523</td>\n",
       "      <td>0.0297881</td>\n",
       "      <td>12</td>\n",
       "      <td>0.52633</td>\n",
       "    </tr>\n",
       "  </tbody>\n",
       "</table>\n",
       "<p>5 rows × 24 columns</p>\n",
       "</div>"
      ],
      "text/plain": [
       "   Earthquake No.        Inputs (Iran ) Unnamed: 2 Unnamed: 3 Unnamed: 4  \\\n",
       "0              NaN                  NaN        NaN        NaN        NaN   \n",
       "1              NaN  Epicentral Distance         ML         MW      Depth   \n",
       "2              1.0                   19        NaN        4.6         22   \n",
       "3              2.0                   21        NaN        5.1         10   \n",
       "4              3.0                   70        NaN        5.1         10   \n",
       "\n",
       "                 Unnamed: 5                 Unnamed: 6  \\\n",
       "0                       NaN                        NaN   \n",
       "1  Effective duration (s) L  Effective duration (s)  V   \n",
       "2                      2.17                       4.61   \n",
       "3                      11.6                       6.62   \n",
       "4                     14.15                      17.13   \n",
       "\n",
       "                  Unnamed: 7  Unnamed: 8  Earthquake magnitude of Sharjah  \\\n",
       "0                        NaN         NaN                              NaN   \n",
       "1  Effective duration (s)  T  Vs30 (m/s)                              NaN   \n",
       "2                       1.67         891                              4.9   \n",
       "3                      10.42         NaN                              5.1   \n",
       "4                      13.55         514                              4.8   \n",
       "\n",
       "   ... Unnamed: 14 Unnamed: 15 Unnamed: 16 Unnamed: 17 Unnamed: 18  \\\n",
       "0  ...        Eq.5        Eq.6         NaN        Eq.7         NaN   \n",
       "1  ...         NaN        PGAH        PGAV        PGAH        PGAV   \n",
       "2  ...     192.048     58.6606     27.8426     23.5682     10.8638   \n",
       "3  ...     270.187         NaN         NaN     40.2426      18.395   \n",
       "4  ...     66.4125     21.3731     10.7709     12.0168     5.57909   \n",
       "\n",
       "  Unnamed: 19 Unnamed: 20 Unnamed: 21  \\\n",
       "0        Eq.8        Eq.9       Eq.10   \n",
       "1         NaN         NaN         NaN   \n",
       "2    0.153049   0.0420549   0.0946283   \n",
       "3    0.670179   0.0523675         NaN   \n",
       "4     0.12928   0.0188523   0.0297881   \n",
       "\n",
       "  Observed horizontal peak ground acceleration Unnamed: 23  \n",
       "0                                          NaN         NaN  \n",
       "1                                 BHRC(cm/s^2)     UOSS(g)  \n",
       "2                                           54    0.442468  \n",
       "3                                           21    0.139353  \n",
       "4                                           12     0.52633  \n",
       "\n",
       "[5 rows x 24 columns]"
      ]
     },
     "execution_count": 7,
     "metadata": {},
     "output_type": "execute_result"
    }
   ],
   "source": [
    "df.head()"
   ]
  },
  {
   "cell_type": "code",
   "execution_count": 8,
   "metadata": {},
   "outputs": [
    {
     "data": {
      "text/html": [
       "<div>\n",
       "<style scoped>\n",
       "    .dataframe tbody tr th:only-of-type {\n",
       "        vertical-align: middle;\n",
       "    }\n",
       "\n",
       "    .dataframe tbody tr th {\n",
       "        vertical-align: top;\n",
       "    }\n",
       "\n",
       "    .dataframe thead th {\n",
       "        text-align: right;\n",
       "    }\n",
       "</style>\n",
       "<table border=\"1\" class=\"dataframe\">\n",
       "  <thead>\n",
       "    <tr style=\"text-align: right;\">\n",
       "      <th></th>\n",
       "      <th>Earthquake No.</th>\n",
       "      <th>Inputs (Iran )</th>\n",
       "      <th>Unnamed: 2</th>\n",
       "      <th>Unnamed: 3</th>\n",
       "      <th>Unnamed: 4</th>\n",
       "      <th>Unnamed: 5</th>\n",
       "      <th>Unnamed: 6</th>\n",
       "      <th>Unnamed: 7</th>\n",
       "      <th>Unnamed: 8</th>\n",
       "    </tr>\n",
       "  </thead>\n",
       "  <tbody>\n",
       "    <tr>\n",
       "      <th>0</th>\n",
       "      <td>NaN</td>\n",
       "      <td>NaN</td>\n",
       "      <td>NaN</td>\n",
       "      <td>NaN</td>\n",
       "      <td>NaN</td>\n",
       "      <td>NaN</td>\n",
       "      <td>NaN</td>\n",
       "      <td>NaN</td>\n",
       "      <td>NaN</td>\n",
       "    </tr>\n",
       "    <tr>\n",
       "      <th>1</th>\n",
       "      <td>NaN</td>\n",
       "      <td>Epicentral Distance</td>\n",
       "      <td>ML</td>\n",
       "      <td>MW</td>\n",
       "      <td>Depth</td>\n",
       "      <td>Effective duration (s) L</td>\n",
       "      <td>Effective duration (s)  V</td>\n",
       "      <td>Effective duration (s)  T</td>\n",
       "      <td>Vs30 (m/s)</td>\n",
       "    </tr>\n",
       "    <tr>\n",
       "      <th>2</th>\n",
       "      <td>1.0</td>\n",
       "      <td>19</td>\n",
       "      <td>NaN</td>\n",
       "      <td>4.6</td>\n",
       "      <td>22</td>\n",
       "      <td>2.17</td>\n",
       "      <td>4.61</td>\n",
       "      <td>1.67</td>\n",
       "      <td>891</td>\n",
       "    </tr>\n",
       "    <tr>\n",
       "      <th>3</th>\n",
       "      <td>2.0</td>\n",
       "      <td>21</td>\n",
       "      <td>NaN</td>\n",
       "      <td>5.1</td>\n",
       "      <td>10</td>\n",
       "      <td>11.6</td>\n",
       "      <td>6.62</td>\n",
       "      <td>10.42</td>\n",
       "      <td>NaN</td>\n",
       "    </tr>\n",
       "    <tr>\n",
       "      <th>4</th>\n",
       "      <td>3.0</td>\n",
       "      <td>70</td>\n",
       "      <td>NaN</td>\n",
       "      <td>5.1</td>\n",
       "      <td>10</td>\n",
       "      <td>14.15</td>\n",
       "      <td>17.13</td>\n",
       "      <td>13.55</td>\n",
       "      <td>514</td>\n",
       "    </tr>\n",
       "  </tbody>\n",
       "</table>\n",
       "</div>"
      ],
      "text/plain": [
       "   Earthquake No.        Inputs (Iran ) Unnamed: 2 Unnamed: 3 Unnamed: 4  \\\n",
       "0              NaN                  NaN        NaN        NaN        NaN   \n",
       "1              NaN  Epicentral Distance         ML         MW      Depth   \n",
       "2              1.0                   19        NaN        4.6         22   \n",
       "3              2.0                   21        NaN        5.1         10   \n",
       "4              3.0                   70        NaN        5.1         10   \n",
       "\n",
       "                 Unnamed: 5                 Unnamed: 6  \\\n",
       "0                       NaN                        NaN   \n",
       "1  Effective duration (s) L  Effective duration (s)  V   \n",
       "2                      2.17                       4.61   \n",
       "3                      11.6                       6.62   \n",
       "4                     14.15                      17.13   \n",
       "\n",
       "                  Unnamed: 7  Unnamed: 8  \n",
       "0                        NaN         NaN  \n",
       "1  Effective duration (s)  T  Vs30 (m/s)  \n",
       "2                       1.67         891  \n",
       "3                      10.42         NaN  \n",
       "4                      13.55         514  "
      ]
     },
     "execution_count": 8,
     "metadata": {},
     "output_type": "execute_result"
    }
   ],
   "source": [
    "# Inputs provided to predict PGA\n",
    "\n",
    "bhrc_ip = df[['Earthquake No. ', 'Inputs (Iran )', 'Unnamed: 2', 'Unnamed: 3',\n",
    "       'Unnamed: 4', 'Unnamed: 5', 'Unnamed: 6', 'Unnamed: 7', 'Unnamed: 8']]\n",
    "bhrc_ip.head()"
   ]
  },
  {
   "cell_type": "code",
   "execution_count": 9,
   "metadata": {},
   "outputs": [],
   "source": [
    "bhrc_ip.columns=['Earthquake No.', 'Epicentral Distance', 'ML', 'MW', 'Depth',\n",
    "       'Effective duration (s) L', 'Effective duration (s)  V',\n",
    "       'Effective duration (s)  T', 'Vs30 (m/s)']"
   ]
  },
  {
   "cell_type": "code",
   "execution_count": 10,
   "metadata": {},
   "outputs": [
    {
     "data": {
      "text/html": [
       "<div>\n",
       "<style scoped>\n",
       "    .dataframe tbody tr th:only-of-type {\n",
       "        vertical-align: middle;\n",
       "    }\n",
       "\n",
       "    .dataframe tbody tr th {\n",
       "        vertical-align: top;\n",
       "    }\n",
       "\n",
       "    .dataframe thead th {\n",
       "        text-align: right;\n",
       "    }\n",
       "</style>\n",
       "<table border=\"1\" class=\"dataframe\">\n",
       "  <thead>\n",
       "    <tr style=\"text-align: right;\">\n",
       "      <th></th>\n",
       "      <th>Earthquake No.</th>\n",
       "      <th>Epicentral Distance</th>\n",
       "      <th>ML</th>\n",
       "      <th>MW</th>\n",
       "      <th>Depth</th>\n",
       "      <th>Effective duration (s) L</th>\n",
       "      <th>Effective duration (s)  V</th>\n",
       "      <th>Effective duration (s)  T</th>\n",
       "      <th>Vs30 (m/s)</th>\n",
       "    </tr>\n",
       "  </thead>\n",
       "  <tbody>\n",
       "    <tr>\n",
       "      <th>2</th>\n",
       "      <td>1.0</td>\n",
       "      <td>19</td>\n",
       "      <td>NaN</td>\n",
       "      <td>4.6</td>\n",
       "      <td>22</td>\n",
       "      <td>2.17</td>\n",
       "      <td>4.61</td>\n",
       "      <td>1.67</td>\n",
       "      <td>891</td>\n",
       "    </tr>\n",
       "    <tr>\n",
       "      <th>3</th>\n",
       "      <td>2.0</td>\n",
       "      <td>21</td>\n",
       "      <td>NaN</td>\n",
       "      <td>5.1</td>\n",
       "      <td>10</td>\n",
       "      <td>11.6</td>\n",
       "      <td>6.62</td>\n",
       "      <td>10.42</td>\n",
       "      <td>NaN</td>\n",
       "    </tr>\n",
       "    <tr>\n",
       "      <th>4</th>\n",
       "      <td>3.0</td>\n",
       "      <td>70</td>\n",
       "      <td>NaN</td>\n",
       "      <td>5.1</td>\n",
       "      <td>10</td>\n",
       "      <td>14.15</td>\n",
       "      <td>17.13</td>\n",
       "      <td>13.55</td>\n",
       "      <td>514</td>\n",
       "    </tr>\n",
       "    <tr>\n",
       "      <th>5</th>\n",
       "      <td>4.0</td>\n",
       "      <td>16</td>\n",
       "      <td>NaN</td>\n",
       "      <td>5.4</td>\n",
       "      <td>16</td>\n",
       "      <td>5.46</td>\n",
       "      <td>7.33</td>\n",
       "      <td>2.97</td>\n",
       "      <td>582</td>\n",
       "    </tr>\n",
       "    <tr>\n",
       "      <th>6</th>\n",
       "      <td>5.0</td>\n",
       "      <td>35</td>\n",
       "      <td>NaN</td>\n",
       "      <td>5.1</td>\n",
       "      <td>9</td>\n",
       "      <td>NaN</td>\n",
       "      <td>NaN</td>\n",
       "      <td>NaN</td>\n",
       "      <td>971</td>\n",
       "    </tr>\n",
       "  </tbody>\n",
       "</table>\n",
       "</div>"
      ],
      "text/plain": [
       "   Earthquake No. Epicentral Distance   ML   MW Depth  \\\n",
       "2             1.0                  19  NaN  4.6    22   \n",
       "3             2.0                  21  NaN  5.1    10   \n",
       "4             3.0                  70  NaN  5.1    10   \n",
       "5             4.0                  16  NaN  5.4    16   \n",
       "6             5.0                  35  NaN  5.1     9   \n",
       "\n",
       "  Effective duration (s) L Effective duration (s)  V  \\\n",
       "2                     2.17                      4.61   \n",
       "3                     11.6                      6.62   \n",
       "4                    14.15                     17.13   \n",
       "5                     5.46                      7.33   \n",
       "6                      NaN                       NaN   \n",
       "\n",
       "  Effective duration (s)  T Vs30 (m/s)  \n",
       "2                      1.67        891  \n",
       "3                     10.42        NaN  \n",
       "4                     13.55        514  \n",
       "5                      2.97        582  \n",
       "6                       NaN        971  "
      ]
     },
     "execution_count": 10,
     "metadata": {},
     "output_type": "execute_result"
    }
   ],
   "source": [
    "bhrc_ip=bhrc_ip.drop([0,1])\n",
    "bhrc_ip.head()"
   ]
  },
  {
   "cell_type": "code",
   "execution_count": 11,
   "metadata": {},
   "outputs": [
    {
     "data": {
      "text/html": [
       "<div>\n",
       "<style scoped>\n",
       "    .dataframe tbody tr th:only-of-type {\n",
       "        vertical-align: middle;\n",
       "    }\n",
       "\n",
       "    .dataframe tbody tr th {\n",
       "        vertical-align: top;\n",
       "    }\n",
       "\n",
       "    .dataframe thead th {\n",
       "        text-align: right;\n",
       "    }\n",
       "</style>\n",
       "<table border=\"1\" class=\"dataframe\">\n",
       "  <thead>\n",
       "    <tr style=\"text-align: right;\">\n",
       "      <th></th>\n",
       "      <th>Epicentral Distance</th>\n",
       "      <th>ML</th>\n",
       "      <th>MW</th>\n",
       "      <th>Depth</th>\n",
       "      <th>Effective duration (s) L</th>\n",
       "      <th>Effective duration (s)  V</th>\n",
       "      <th>Effective duration (s)  T</th>\n",
       "      <th>Vs30 (m/s)</th>\n",
       "    </tr>\n",
       "    <tr>\n",
       "      <th>Earthquake No.</th>\n",
       "      <th></th>\n",
       "      <th></th>\n",
       "      <th></th>\n",
       "      <th></th>\n",
       "      <th></th>\n",
       "      <th></th>\n",
       "      <th></th>\n",
       "      <th></th>\n",
       "    </tr>\n",
       "  </thead>\n",
       "  <tbody>\n",
       "    <tr>\n",
       "      <th>1</th>\n",
       "      <td>19</td>\n",
       "      <td>NaN</td>\n",
       "      <td>4.6</td>\n",
       "      <td>22</td>\n",
       "      <td>2.17</td>\n",
       "      <td>4.61</td>\n",
       "      <td>1.67</td>\n",
       "      <td>891</td>\n",
       "    </tr>\n",
       "    <tr>\n",
       "      <th>2</th>\n",
       "      <td>21</td>\n",
       "      <td>NaN</td>\n",
       "      <td>5.1</td>\n",
       "      <td>10</td>\n",
       "      <td>11.6</td>\n",
       "      <td>6.62</td>\n",
       "      <td>10.42</td>\n",
       "      <td>NaN</td>\n",
       "    </tr>\n",
       "    <tr>\n",
       "      <th>3</th>\n",
       "      <td>70</td>\n",
       "      <td>NaN</td>\n",
       "      <td>5.1</td>\n",
       "      <td>10</td>\n",
       "      <td>14.15</td>\n",
       "      <td>17.13</td>\n",
       "      <td>13.55</td>\n",
       "      <td>514</td>\n",
       "    </tr>\n",
       "    <tr>\n",
       "      <th>4</th>\n",
       "      <td>16</td>\n",
       "      <td>NaN</td>\n",
       "      <td>5.4</td>\n",
       "      <td>16</td>\n",
       "      <td>5.46</td>\n",
       "      <td>7.33</td>\n",
       "      <td>2.97</td>\n",
       "      <td>582</td>\n",
       "    </tr>\n",
       "    <tr>\n",
       "      <th>5</th>\n",
       "      <td>35</td>\n",
       "      <td>NaN</td>\n",
       "      <td>5.1</td>\n",
       "      <td>9</td>\n",
       "      <td>NaN</td>\n",
       "      <td>NaN</td>\n",
       "      <td>NaN</td>\n",
       "      <td>971</td>\n",
       "    </tr>\n",
       "  </tbody>\n",
       "</table>\n",
       "</div>"
      ],
      "text/plain": [
       "               Epicentral Distance   ML   MW Depth Effective duration (s) L  \\\n",
       "Earthquake No.                                                                \n",
       "1                               19  NaN  4.6    22                     2.17   \n",
       "2                               21  NaN  5.1    10                     11.6   \n",
       "3                               70  NaN  5.1    10                    14.15   \n",
       "4                               16  NaN  5.4    16                     5.46   \n",
       "5                               35  NaN  5.1     9                      NaN   \n",
       "\n",
       "               Effective duration (s)  V Effective duration (s)  T Vs30 (m/s)  \n",
       "Earthquake No.                                                                 \n",
       "1                                   4.61                      1.67        891  \n",
       "2                                   6.62                     10.42        NaN  \n",
       "3                                  17.13                     13.55        514  \n",
       "4                                   7.33                      2.97        582  \n",
       "5                                    NaN                       NaN        971  "
      ]
     },
     "execution_count": 11,
     "metadata": {},
     "output_type": "execute_result"
    }
   ],
   "source": [
    "bhrc_ip.reset_index(inplace=True)\n",
    "bhrc_ip.drop('index',axis=1,inplace=True)\n",
    "bhrc_ip['Earthquake No.'] = bhrc_ip['Earthquake No.'].apply(int)\n",
    "bhrc_ip.set_index('Earthquake No.',inplace=True)\n",
    "bhrc_ip.head()"
   ]
  },
  {
   "cell_type": "code",
   "execution_count": 12,
   "metadata": {},
   "outputs": [],
   "source": [
    "bhrc_update = pd.merge(left=final_BHRC, right=bhrc_ip, on='Earthquake No.')\n",
    "bhrc_update['Un. PGA(cm/s/s)'] = bhrc_update['Un. PGA(cm/s/s)'].apply(int)"
   ]
  },
  {
   "cell_type": "code",
   "execution_count": 13,
   "metadata": {},
   "outputs": [
    {
     "name": "stdout",
     "output_type": "stream",
     "text": [
      "<class 'pandas.core.frame.DataFrame'>\n",
      "RangeIndex: 130 entries, 0 to 129\n",
      "Data columns (total 13 columns):\n",
      "Earthquake No.             130 non-null int64\n",
      "Time Series Avalability    130 non-null int64\n",
      "Station Name               130 non-null object\n",
      "Record No                  130 non-null object\n",
      "Date                       130 non-null datetime64[ns]\n",
      "Time                       130 non-null object\n",
      "Unnamed: 6                 130 non-null object\n",
      "Latitude                   130 non-null float64\n",
      "Longitude                  130 non-null float64\n",
      "Reference                  130 non-null object\n",
      "Station Code               130 non-null object\n",
      "Province                   130 non-null object\n",
      "Fault Type                 127 non-null object\n",
      "dtypes: datetime64[ns](1), float64(2), int64(2), object(8)\n",
      "memory usage: 13.3+ KB\n"
     ]
    }
   ],
   "source": [
    "bhrc_metadata = pd.read_excel('Last_Predicted_and_Observed_Outputs.xlsx',sheet_name='BHRC_Metadata')\n",
    "bhrc_metadata.info()"
   ]
  },
  {
   "cell_type": "code",
   "execution_count": 14,
   "metadata": {},
   "outputs": [
    {
     "data": {
      "text/html": [
       "<div>\n",
       "<style scoped>\n",
       "    .dataframe tbody tr th:only-of-type {\n",
       "        vertical-align: middle;\n",
       "    }\n",
       "\n",
       "    .dataframe tbody tr th {\n",
       "        vertical-align: top;\n",
       "    }\n",
       "\n",
       "    .dataframe thead th {\n",
       "        text-align: right;\n",
       "    }\n",
       "</style>\n",
       "<table border=\"1\" class=\"dataframe\">\n",
       "  <thead>\n",
       "    <tr style=\"text-align: right;\">\n",
       "      <th></th>\n",
       "      <th>Earthquake No.</th>\n",
       "      <th>Station Name</th>\n",
       "      <th>Record No</th>\n",
       "      <th>Date</th>\n",
       "      <th>Unknown BHRC</th>\n",
       "      <th>Time</th>\n",
       "      <th>AM-PM</th>\n",
       "      <th>Un. PGA(cm/s/s)</th>\n",
       "      <th>Latitude</th>\n",
       "      <th>Longitude</th>\n",
       "      <th>...</th>\n",
       "      <th>ML_y</th>\n",
       "      <th>MW_y</th>\n",
       "      <th>Depth</th>\n",
       "      <th>Effective duration (s) L</th>\n",
       "      <th>Effective duration (s)  V</th>\n",
       "      <th>Effective duration (s)  T</th>\n",
       "      <th>Vs30 (m/s)</th>\n",
       "      <th>Time Series Avalability</th>\n",
       "      <th>Fault Type_SS</th>\n",
       "      <th>Fault Type_nan</th>\n",
       "    </tr>\n",
       "  </thead>\n",
       "  <tbody>\n",
       "    <tr>\n",
       "      <th>0</th>\n",
       "      <td>1</td>\n",
       "      <td>Ban Mazaran</td>\n",
       "      <td>7373/01</td>\n",
       "      <td>2017-11-13</td>\n",
       "      <td>19</td>\n",
       "      <td>04:27:55</td>\n",
       "      <td>AM</td>\n",
       "      <td>63</td>\n",
       "      <td>34.49</td>\n",
       "      <td>45.74</td>\n",
       "      <td>...</td>\n",
       "      <td>NaN</td>\n",
       "      <td>4.6</td>\n",
       "      <td>22</td>\n",
       "      <td>2.17</td>\n",
       "      <td>4.61</td>\n",
       "      <td>1.67</td>\n",
       "      <td>891</td>\n",
       "      <td>1</td>\n",
       "      <td>0</td>\n",
       "      <td>0</td>\n",
       "    </tr>\n",
       "    <tr>\n",
       "      <th>1</th>\n",
       "      <td>2</td>\n",
       "      <td>Ban Mazaran</td>\n",
       "      <td>7373/02</td>\n",
       "      <td>2017-11-13</td>\n",
       "      <td>19</td>\n",
       "      <td>04:36:12</td>\n",
       "      <td>AM</td>\n",
       "      <td>21</td>\n",
       "      <td>34.50</td>\n",
       "      <td>45.78</td>\n",
       "      <td>...</td>\n",
       "      <td>NaN</td>\n",
       "      <td>5.1</td>\n",
       "      <td>10</td>\n",
       "      <td>11.6</td>\n",
       "      <td>6.62</td>\n",
       "      <td>10.42</td>\n",
       "      <td>NaN</td>\n",
       "      <td>1</td>\n",
       "      <td>1</td>\n",
       "      <td>0</td>\n",
       "    </tr>\n",
       "    <tr>\n",
       "      <th>2</th>\n",
       "      <td>3</td>\n",
       "      <td>Javanrood</td>\n",
       "      <td>7398</td>\n",
       "      <td>2017-11-12</td>\n",
       "      <td>7</td>\n",
       "      <td>06:18:16</td>\n",
       "      <td>PM</td>\n",
       "      <td>207</td>\n",
       "      <td>34.81</td>\n",
       "      <td>45.91</td>\n",
       "      <td>...</td>\n",
       "      <td>NaN</td>\n",
       "      <td>5.1</td>\n",
       "      <td>10</td>\n",
       "      <td>14.15</td>\n",
       "      <td>17.13</td>\n",
       "      <td>13.55</td>\n",
       "      <td>514</td>\n",
       "      <td>1</td>\n",
       "      <td>0</td>\n",
       "      <td>0</td>\n",
       "    </tr>\n",
       "    <tr>\n",
       "      <th>3</th>\n",
       "      <td>4</td>\n",
       "      <td>Faryab</td>\n",
       "      <td>7260</td>\n",
       "      <td>2017-10-23</td>\n",
       "      <td>1</td>\n",
       "      <td>12:24:14</td>\n",
       "      <td>AM</td>\n",
       "      <td>60</td>\n",
       "      <td>27.76</td>\n",
       "      <td>57.10</td>\n",
       "      <td>...</td>\n",
       "      <td>NaN</td>\n",
       "      <td>5.4</td>\n",
       "      <td>16</td>\n",
       "      <td>5.46</td>\n",
       "      <td>7.33</td>\n",
       "      <td>2.97</td>\n",
       "      <td>582</td>\n",
       "      <td>1</td>\n",
       "      <td>1</td>\n",
       "      <td>0</td>\n",
       "    </tr>\n",
       "    <tr>\n",
       "      <th>4</th>\n",
       "      <td>5</td>\n",
       "      <td>Tikmedash</td>\n",
       "      <td>7253</td>\n",
       "      <td>2017-10-18</td>\n",
       "      <td>2</td>\n",
       "      <td>05:35:35</td>\n",
       "      <td>PM</td>\n",
       "      <td>11</td>\n",
       "      <td>37.92</td>\n",
       "      <td>47.10</td>\n",
       "      <td>...</td>\n",
       "      <td>NaN</td>\n",
       "      <td>5.1</td>\n",
       "      <td>9</td>\n",
       "      <td>NaN</td>\n",
       "      <td>NaN</td>\n",
       "      <td>NaN</td>\n",
       "      <td>971</td>\n",
       "      <td>1</td>\n",
       "      <td>1</td>\n",
       "      <td>0</td>\n",
       "    </tr>\n",
       "  </tbody>\n",
       "</table>\n",
       "<p>5 rows × 29 columns</p>\n",
       "</div>"
      ],
      "text/plain": [
       "   Earthquake No. Station Name Record No       Date  Unknown BHRC      Time  \\\n",
       "0               1  Ban Mazaran   7373/01 2017-11-13            19  04:27:55   \n",
       "1               2  Ban Mazaran   7373/02 2017-11-13            19  04:36:12   \n",
       "2               3    Javanrood      7398 2017-11-12             7  06:18:16   \n",
       "3               4       Faryab      7260 2017-10-23             1  12:24:14   \n",
       "4               5    Tikmedash      7253 2017-10-18             2  05:35:35   \n",
       "\n",
       "  AM-PM  Un. PGA(cm/s/s)  Latitude  Longitude  ...  ML_y  MW_y  Depth  \\\n",
       "0    AM               63     34.49      45.74  ...   NaN   4.6     22   \n",
       "1    AM               21     34.50      45.78  ...   NaN   5.1     10   \n",
       "2    PM              207     34.81      45.91  ...   NaN   5.1     10   \n",
       "3    AM               60     27.76      57.10  ...   NaN   5.4     16   \n",
       "4    PM               11     37.92      47.10  ...   NaN   5.1      9   \n",
       "\n",
       "   Effective duration (s) L  Effective duration (s)  V  \\\n",
       "0                      2.17                       4.61   \n",
       "1                      11.6                       6.62   \n",
       "2                     14.15                      17.13   \n",
       "3                      5.46                       7.33   \n",
       "4                       NaN                        NaN   \n",
       "\n",
       "   Effective duration (s)  T Vs30 (m/s) Time Series Avalability Fault Type_SS  \\\n",
       "0                       1.67        891                       1             0   \n",
       "1                      10.42        NaN                       1             1   \n",
       "2                      13.55        514                       1             0   \n",
       "3                       2.97        582                       1             1   \n",
       "4                        NaN        971                       1             1   \n",
       "\n",
       "  Fault Type_nan  \n",
       "0              0  \n",
       "1              0  \n",
       "2              0  \n",
       "3              0  \n",
       "4              0  \n",
       "\n",
       "[5 rows x 29 columns]"
      ]
     },
     "execution_count": 14,
     "metadata": {},
     "output_type": "execute_result"
    }
   ],
   "source": [
    "ts_fault = bhrc_metadata[['Earthquake No. ','Time Series Avalability','Fault Type']]\n",
    "ts_fault.columns = ['Earthquake No.','Time Series Avalability','Fault Type']\n",
    "ts_f = pd.get_dummies(data=ts_fault, dummy_na=True, columns=['Fault Type'], drop_first=True)\n",
    "ts_f.head()\n",
    "bhrc_update = pd.merge(bhrc_update,ts_f,on='Earthquake No.')\n",
    "bhrc_update.head()"
   ]
  },
  {
   "cell_type": "code",
   "execution_count": 15,
   "metadata": {},
   "outputs": [
    {
     "data": {
      "text/html": [
       "<div>\n",
       "<style scoped>\n",
       "    .dataframe tbody tr th:only-of-type {\n",
       "        vertical-align: middle;\n",
       "    }\n",
       "\n",
       "    .dataframe tbody tr th {\n",
       "        vertical-align: top;\n",
       "    }\n",
       "\n",
       "    .dataframe thead th {\n",
       "        text-align: right;\n",
       "    }\n",
       "</style>\n",
       "<table border=\"1\" class=\"dataframe\">\n",
       "  <thead>\n",
       "    <tr style=\"text-align: right;\">\n",
       "      <th></th>\n",
       "      <th>Station Name</th>\n",
       "      <th>Record No</th>\n",
       "      <th>Date</th>\n",
       "      <th>Unknown BHRC</th>\n",
       "      <th>Time</th>\n",
       "      <th>AM-PM</th>\n",
       "      <th>Un. PGA(cm/s/s)</th>\n",
       "      <th>Latitude</th>\n",
       "      <th>Longitude</th>\n",
       "      <th>Epicentral Distance_x</th>\n",
       "      <th>...</th>\n",
       "      <th>MW_y</th>\n",
       "      <th>Depth</th>\n",
       "      <th>Effective duration (s) L</th>\n",
       "      <th>Effective duration (s)  V</th>\n",
       "      <th>Effective duration (s)  T</th>\n",
       "      <th>Vs30 (m/s)</th>\n",
       "      <th>Time Series Avalability</th>\n",
       "      <th>Fault Type_SS</th>\n",
       "      <th>Fault Type_nan</th>\n",
       "      <th>Observed horizontal peak ground acceleration</th>\n",
       "    </tr>\n",
       "    <tr>\n",
       "      <th>Earthquake No.</th>\n",
       "      <th></th>\n",
       "      <th></th>\n",
       "      <th></th>\n",
       "      <th></th>\n",
       "      <th></th>\n",
       "      <th></th>\n",
       "      <th></th>\n",
       "      <th></th>\n",
       "      <th></th>\n",
       "      <th></th>\n",
       "      <th></th>\n",
       "      <th></th>\n",
       "      <th></th>\n",
       "      <th></th>\n",
       "      <th></th>\n",
       "      <th></th>\n",
       "      <th></th>\n",
       "      <th></th>\n",
       "      <th></th>\n",
       "      <th></th>\n",
       "      <th></th>\n",
       "    </tr>\n",
       "  </thead>\n",
       "  <tbody>\n",
       "    <tr>\n",
       "      <th>1</th>\n",
       "      <td>Ban Mazaran</td>\n",
       "      <td>7373/01</td>\n",
       "      <td>2017-11-13</td>\n",
       "      <td>19</td>\n",
       "      <td>04:27:55</td>\n",
       "      <td>AM</td>\n",
       "      <td>63</td>\n",
       "      <td>34.49</td>\n",
       "      <td>45.74</td>\n",
       "      <td>22</td>\n",
       "      <td>...</td>\n",
       "      <td>4.6</td>\n",
       "      <td>22</td>\n",
       "      <td>2.17</td>\n",
       "      <td>4.61</td>\n",
       "      <td>1.67</td>\n",
       "      <td>891</td>\n",
       "      <td>1</td>\n",
       "      <td>0</td>\n",
       "      <td>0</td>\n",
       "      <td>54</td>\n",
       "    </tr>\n",
       "    <tr>\n",
       "      <th>2</th>\n",
       "      <td>Ban Mazaran</td>\n",
       "      <td>7373/02</td>\n",
       "      <td>2017-11-13</td>\n",
       "      <td>19</td>\n",
       "      <td>04:36:12</td>\n",
       "      <td>AM</td>\n",
       "      <td>21</td>\n",
       "      <td>34.50</td>\n",
       "      <td>45.78</td>\n",
       "      <td>19</td>\n",
       "      <td>...</td>\n",
       "      <td>5.1</td>\n",
       "      <td>10</td>\n",
       "      <td>11.6</td>\n",
       "      <td>6.62</td>\n",
       "      <td>10.42</td>\n",
       "      <td>NaN</td>\n",
       "      <td>1</td>\n",
       "      <td>1</td>\n",
       "      <td>0</td>\n",
       "      <td>21</td>\n",
       "    </tr>\n",
       "    <tr>\n",
       "      <th>3</th>\n",
       "      <td>Javanrood</td>\n",
       "      <td>7398</td>\n",
       "      <td>2017-11-12</td>\n",
       "      <td>7</td>\n",
       "      <td>06:18:16</td>\n",
       "      <td>PM</td>\n",
       "      <td>207</td>\n",
       "      <td>34.81</td>\n",
       "      <td>45.91</td>\n",
       "      <td>53</td>\n",
       "      <td>...</td>\n",
       "      <td>5.1</td>\n",
       "      <td>10</td>\n",
       "      <td>14.15</td>\n",
       "      <td>17.13</td>\n",
       "      <td>13.55</td>\n",
       "      <td>514</td>\n",
       "      <td>1</td>\n",
       "      <td>0</td>\n",
       "      <td>0</td>\n",
       "      <td>12</td>\n",
       "    </tr>\n",
       "    <tr>\n",
       "      <th>4</th>\n",
       "      <td>Faryab</td>\n",
       "      <td>7260</td>\n",
       "      <td>2017-10-23</td>\n",
       "      <td>1</td>\n",
       "      <td>12:24:14</td>\n",
       "      <td>AM</td>\n",
       "      <td>60</td>\n",
       "      <td>27.76</td>\n",
       "      <td>57.10</td>\n",
       "      <td>40</td>\n",
       "      <td>...</td>\n",
       "      <td>5.4</td>\n",
       "      <td>16</td>\n",
       "      <td>5.46</td>\n",
       "      <td>7.33</td>\n",
       "      <td>2.97</td>\n",
       "      <td>582</td>\n",
       "      <td>1</td>\n",
       "      <td>1</td>\n",
       "      <td>0</td>\n",
       "      <td>200</td>\n",
       "    </tr>\n",
       "    <tr>\n",
       "      <th>5</th>\n",
       "      <td>Tikmedash</td>\n",
       "      <td>7253</td>\n",
       "      <td>2017-10-18</td>\n",
       "      <td>2</td>\n",
       "      <td>05:35:35</td>\n",
       "      <td>PM</td>\n",
       "      <td>11</td>\n",
       "      <td>37.92</td>\n",
       "      <td>47.10</td>\n",
       "      <td>25</td>\n",
       "      <td>...</td>\n",
       "      <td>5.1</td>\n",
       "      <td>9</td>\n",
       "      <td>NaN</td>\n",
       "      <td>NaN</td>\n",
       "      <td>NaN</td>\n",
       "      <td>971</td>\n",
       "      <td>1</td>\n",
       "      <td>1</td>\n",
       "      <td>0</td>\n",
       "      <td>86</td>\n",
       "    </tr>\n",
       "  </tbody>\n",
       "</table>\n",
       "<p>5 rows × 29 columns</p>\n",
       "</div>"
      ],
      "text/plain": [
       "               Station Name Record No       Date  Unknown BHRC      Time  \\\n",
       "Earthquake No.                                                             \n",
       "1               Ban Mazaran   7373/01 2017-11-13            19  04:27:55   \n",
       "2               Ban Mazaran   7373/02 2017-11-13            19  04:36:12   \n",
       "3                 Javanrood      7398 2017-11-12             7  06:18:16   \n",
       "4                    Faryab      7260 2017-10-23             1  12:24:14   \n",
       "5                 Tikmedash      7253 2017-10-18             2  05:35:35   \n",
       "\n",
       "               AM-PM  Un. PGA(cm/s/s)  Latitude  Longitude  \\\n",
       "Earthquake No.                                               \n",
       "1                 AM               63     34.49      45.74   \n",
       "2                 AM               21     34.50      45.78   \n",
       "3                 PM              207     34.81      45.91   \n",
       "4                 AM               60     27.76      57.10   \n",
       "5                 PM               11     37.92      47.10   \n",
       "\n",
       "                Epicentral Distance_x  ...  MW_y  Depth  \\\n",
       "Earthquake No.                         ...                \n",
       "1                                  22  ...   4.6     22   \n",
       "2                                  19  ...   5.1     10   \n",
       "3                                  53  ...   5.1     10   \n",
       "4                                  40  ...   5.4     16   \n",
       "5                                  25  ...   5.1      9   \n",
       "\n",
       "                Effective duration (s) L  Effective duration (s)  V  \\\n",
       "Earthquake No.                                                        \n",
       "1                                   2.17                       4.61   \n",
       "2                                   11.6                       6.62   \n",
       "3                                  14.15                      17.13   \n",
       "4                                   5.46                       7.33   \n",
       "5                                    NaN                        NaN   \n",
       "\n",
       "                Effective duration (s)  T Vs30 (m/s) Time Series Avalability  \\\n",
       "Earthquake No.                                                                 \n",
       "1                                    1.67        891                       1   \n",
       "2                                   10.42        NaN                       1   \n",
       "3                                   13.55        514                       1   \n",
       "4                                    2.97        582                       1   \n",
       "5                                     NaN        971                       1   \n",
       "\n",
       "               Fault Type_SS Fault Type_nan  \\\n",
       "Earthquake No.                                \n",
       "1                          0              0   \n",
       "2                          1              0   \n",
       "3                          0              0   \n",
       "4                          1              0   \n",
       "5                          1              0   \n",
       "\n",
       "               Observed horizontal peak ground acceleration  \n",
       "Earthquake No.                                               \n",
       "1                                                        54  \n",
       "2                                                        21  \n",
       "3                                                        12  \n",
       "4                                                       200  \n",
       "5                                                        86  \n",
       "\n",
       "[5 rows x 29 columns]"
      ]
     },
     "execution_count": 15,
     "metadata": {},
     "output_type": "execute_result"
    }
   ],
   "source": [
    "# Collecting observed results from a created model \n",
    "\n",
    "pga_trained = df[['Observed horizontal peak ground acceleration','Earthquake No. ']].dropna()\n",
    "pga_trained['Earthquake No. '] = pga_trained['Earthquake No. '].apply(int)\n",
    "pga_trained.columns=['Observed horizontal peak ground acceleration', 'Earthquake No.']\n",
    "pga_observed = pga_trained.set_index('Earthquake No.')\n",
    "\n",
    "pga_observed.head()\n",
    "# Merging Observed BHRC data\n",
    "bhrc_update = pd.merge(bhrc_update,pga_observed,on='Earthquake No.')\n",
    "bhrc_update.set_index('Earthquake No.',inplace=True)\n",
    "bhrc_update.head()"
   ]
  },
  {
   "cell_type": "code",
   "execution_count": 16,
   "metadata": {},
   "outputs": [
    {
     "data": {
      "text/plain": [
       "<matplotlib.axes._subplots.AxesSubplot at 0x2105bbf2be0>"
      ]
     },
     "execution_count": 16,
     "metadata": {},
     "output_type": "execute_result"
    },
    {
     "data": {
      "image/png": "[encoded data removed]",
      "text/plain": [
       "<Figure size 432x288 with 1 Axes>"
      ]
     },
     "metadata": {
      "needs_background": "light"
     },
     "output_type": "display_data"
    }
   ],
   "source": [
    "sns.heatmap(bhrc_update.isnull(),yticklabels=False,cbar=False,cmap='viridis') # cbar=color bar"
   ]
  },
  {
   "cell_type": "code",
   "execution_count": 18,
   "metadata": {},
   "outputs": [
    {
     "data": {
      "text/plain": [
       "<matplotlib.axes._subplots.AxesSubplot at 0x2105cfd3ef0>"
      ]
     },
     "execution_count": 18,
     "metadata": {},
     "output_type": "execute_result"
    },
    {
     "data": {
      "image/png": "[encoded data removed]",
      "text/plain": [
       "<Figure size 432x288 with 1 Axes>"
      ]
     },
     "metadata": {
      "needs_background": "light"
     },
     "output_type": "display_data"
    }
   ],
   "source": [
    "bhrc_update = bhrc_update[bhrc_update['Time Series Avalability']==1]\n",
    "sns.heatmap(bhrc_update.isnull(),yticklabels=False,cbar=False,cmap='viridis')"
   ]
  },
  {
   "cell_type": "code",
   "execution_count": 19,
   "metadata": {},
   "outputs": [
    {
     "data": {
      "text/plain": [
       "Index(['Station Name', 'Record No', 'Date', 'Unknown BHRC', 'Time', 'AM-PM',\n",
       "       'Un. PGA(cm/s/s)', 'Latitude', 'Longitude', 'Epicentral Distance_x',\n",
       "       'ML_x', 'MW_x', 'MN', 'MS', 'mb', 'Reference', 'Station Code',\n",
       "       'Epicentral Distance_y', 'ML_y', 'MW_y', 'Depth',\n",
       "       'Effective duration (s) L', 'Effective duration (s)  V',\n",
       "       'Effective duration (s)  T', 'Vs30 (m/s)', 'Time Series Avalability',\n",
       "       'Fault Type_SS', 'Fault Type_nan',\n",
       "       'Observed horizontal peak ground acceleration'],\n",
       "      dtype='object')"
      ]
     },
     "execution_count": 19,
     "metadata": {},
     "output_type": "execute_result"
    }
   ],
   "source": [
    "bhrc_update.columns"
   ]
  },
  {
   "cell_type": "code",
   "execution_count": 20,
   "metadata": {},
   "outputs": [
    {
     "data": {
      "text/plain": [
       "<matplotlib.axes._subplots.AxesSubplot at 0x2105bde8160>"
      ]
     },
     "execution_count": 20,
     "metadata": {},
     "output_type": "execute_result"
    },
    {
     "data": {
      "image/png": "[encoded data removed]",
      "text/plain": [
       "<Figure size 432x288 with 1 Axes>"
      ]
     },
     "metadata": {
      "needs_background": "light"
     },
     "output_type": "display_data"
    }
   ],
   "source": [
    "# Cleaning1\n",
    "bhrc_update = bhrc_update.drop(['ML_x', 'MN', 'MS', 'mb','ML_y','Reference','Station Name','Station Code', \n",
    "                                'Time Series Avalability','Fault Type_nan','Record No','Date','Time', 'AM-PM'],axis=1)\n",
    "sns.heatmap(bhrc_update.isnull(),yticklabels=False,cbar=False,cmap='viridis')"
   ]
  },
  {
   "cell_type": "code",
   "execution_count": 21,
   "metadata": {},
   "outputs": [
    {
     "data": {
      "text/plain": [
       "<matplotlib.axes._subplots.AxesSubplot at 0x2105be555c0>"
      ]
     },
     "execution_count": 21,
     "metadata": {},
     "output_type": "execute_result"
    },
    {
     "data": {
      "image/png": "[encoded data removed]",
      "text/plain": [
       "<Figure size 432x288 with 1 Axes>"
      ]
     },
     "metadata": {
      "needs_background": "light"
     },
     "output_type": "display_data"
    }
   ],
   "source": [
    "# Cleaning 2\n",
    "for col in bhrc_update.columns:\n",
    "    bhrc_update[col]=bhrc_update[col].fillna(bhrc_update[col].mean())\n",
    "sns.heatmap(bhrc_ip.isnull(),yticklabels=False,cbar=False,cmap='viridis') # cbar=color bar"
   ]
  },
  {
   "cell_type": "code",
   "execution_count": 22,
   "metadata": {},
   "outputs": [
    {
     "name": "stdout",
     "output_type": "stream",
     "text": [
      "<class 'pandas.core.frame.DataFrame'>\n",
      "Int64Index: 89 entries, 1 to 125\n",
      "Data columns (total 15 columns):\n",
      "Unknown BHRC                                    89 non-null int64\n",
      "Un. PGA(cm/s/s)                                 89 non-null int64\n",
      "Latitude                                        89 non-null float64\n",
      "Longitude                                       89 non-null float64\n",
      "Epicentral Distance_x                           89 non-null int64\n",
      "MW_x                                            89 non-null float64\n",
      "Epicentral Distance_y                           89 non-null int64\n",
      "MW_y                                            89 non-null float64\n",
      "Depth                                           89 non-null int64\n",
      "Effective duration (s) L                        89 non-null float64\n",
      "Effective duration (s)  V                       89 non-null float64\n",
      "Effective duration (s)  T                       89 non-null float64\n",
      "Vs30 (m/s)                                      89 non-null float64\n",
      "Fault Type_SS                                   89 non-null uint8\n",
      "Observed horizontal peak ground acceleration    89 non-null int64\n",
      "dtypes: float64(8), int64(6), uint8(1)\n",
      "memory usage: 10.5 KB\n"
     ]
    }
   ],
   "source": [
    "bhrc_update.info()"
   ]
  },
  {
   "cell_type": "code",
   "execution_count": 23,
   "metadata": {},
   "outputs": [],
   "source": [
    "bhrc_update.to_csv('Final Analytics Ready Data',index=False)"
   ]
  },
  {
   "cell_type": "code",
   "execution_count": 24,
   "metadata": {},
   "outputs": [],
   "source": [
    "\n",
    "X = bhrc_update.drop('Observed horizontal peak ground acceleration',axis=1)\n",
    "\n",
    "y = bhrc_update['Observed horizontal peak ground acceleration']"
   ]
  },
  {
   "cell_type": "code",
   "execution_count": 25,
   "metadata": {},
   "outputs": [],
   "source": [
    "from sklearn.model_selection import train_test_split"
   ]
  },
  {
   "cell_type": "code",
   "execution_count": null,
   "metadata": {},
   "outputs": [],
   "source": [
    "#X_train, X_test, y_train, y_test = train_test_split(X, y, test_size=0.3, random_state=101)"
   ]
  },
  {
   "cell_type": "code",
   "execution_count": 26,
   "metadata": {},
   "outputs": [],
   "source": [
    "from sklearn.preprocessing import StandardScaler"
   ]
  },
  {
   "cell_type": "code",
   "execution_count": 27,
   "metadata": {},
   "outputs": [],
   "source": [
    "# After scaling the data - still same data\n",
    "scaler = StandardScaler()\n",
    "scaler.fit(X)\n",
    "scaled_features = scaler.transform(X)\n",
    "X_train, X_test, y_train, y_test = train_test_split(scaled_features, y, test_size=0.3, random_state=101)"
   ]
  },
  {
   "cell_type": "code",
   "execution_count": 28,
   "metadata": {},
   "outputs": [],
   "source": [
    "from sklearn.linear_model import LogisticRegression"
   ]
  },
  {
   "cell_type": "code",
   "execution_count": 29,
   "metadata": {},
   "outputs": [
    {
     "name": "stderr",
     "output_type": "stream",
     "text": [
      "C:\\Users\\Subham\\Anaconda3\\lib\\site-packages\\sklearn\\linear_model\\logistic.py:432: FutureWarning: Default solver will be changed to 'lbfgs' in 0.22. Specify a solver to silence this warning.\n",
      "  FutureWarning)\n",
      "C:\\Users\\Subham\\Anaconda3\\lib\\site-packages\\sklearn\\linear_model\\logistic.py:469: FutureWarning: Default multi_class will be changed to 'auto' in 0.22. Specify the multi_class option to silence this warning.\n",
      "  \"this warning.\", FutureWarning)\n"
     ]
    },
    {
     "data": {
      "text/plain": [
       "LogisticRegression(C=1.0, class_weight=None, dual=False, fit_intercept=True,\n",
       "                   intercept_scaling=1, l1_ratio=None, max_iter=100,\n",
       "                   multi_class='warn', n_jobs=None, penalty='l2',\n",
       "                   random_state=None, solver='warn', tol=0.0001, verbose=0,\n",
       "                   warm_start=False)"
      ]
     },
     "execution_count": 29,
     "metadata": {},
     "output_type": "execute_result"
    }
   ],
   "source": [
    "logmodel = LogisticRegression()\n",
    "logmodel.fit(X_train,y_train)"
   ]
  },
  {
   "cell_type": "code",
   "execution_count": 30,
   "metadata": {},
   "outputs": [],
   "source": [
    "predict_log = logmodel.predict(X_test)\n",
    "prob_log =logmodel.predict_proba(X_test)"
   ]
  },
  {
   "cell_type": "code",
   "execution_count": 31,
   "metadata": {},
   "outputs": [
    {
     "data": {
      "text/plain": [
       "<matplotlib.axes._subplots.AxesSubplot at 0x2105d894278>"
      ]
     },
     "execution_count": 31,
     "metadata": {},
     "output_type": "execute_result"
    },
    {
     "data": {
      "image/png": "[encoded data removed]",
      "text/plain": [
       "<Figure size 432x288 with 1 Axes>"
      ]
     },
     "metadata": {
      "needs_background": "light"
     },
     "output_type": "display_data"
    }
   ],
   "source": [
    "sns.distplot((y_test-predict_log),bins=50)"
   ]
  },
  {
   "cell_type": "code",
   "execution_count": 32,
   "metadata": {},
   "outputs": [],
   "source": [
    "from sklearn import metrics"
   ]
  },
  {
   "cell_type": "code",
   "execution_count": 33,
   "metadata": {},
   "outputs": [
    {
     "name": "stdout",
     "output_type": "stream",
     "text": [
      "MAE: 58.666666666666664\n",
      "MSE: 6148.740740740741\n",
      "RMSE: 78.41390655196781\n"
     ]
    }
   ],
   "source": [
    "print('MAE:', metrics.mean_absolute_error(y_test, predict_log))\n",
    "print('MSE:', metrics.mean_squared_error(y_test, predict_log))\n",
    "print('RMSE:', np.sqrt(metrics.mean_squared_error(y_test, predict_log)))"
   ]
  },
  {
   "cell_type": "code",
   "execution_count": 34,
   "metadata": {},
   "outputs": [],
   "source": [
    "from sklearn.neighbors import KNeighborsClassifier"
   ]
  },
  {
   "cell_type": "code",
   "execution_count": null,
   "metadata": {},
   "outputs": [],
   "source": [
    "#knn = KNeighborsClassifier(n_neighbors=5)\n",
    "#knn.fit(X_train,y_train)\n",
    "#predict_knn_test = knn.predict(X_test)"
   ]
  },
  {
   "cell_type": "code",
   "execution_count": 35,
   "metadata": {},
   "outputs": [],
   "source": [
    "error_rate = []\n",
    "\n",
    "for i in range(1,50):\n",
    "    \n",
    "    knn = KNeighborsClassifier(n_neighbors=i,)\n",
    "    knn.fit(X_train,y_train)\n",
    "    pred_i = knn.predict(X_test)\n",
    "    error_rate.append(metrics.mean_squared_error(y_test, pred_i))  # MSE"
   ]
  },
  {
   "cell_type": "code",
   "execution_count": 36,
   "metadata": {},
   "outputs": [
    {
     "data": {
      "text/plain": [
       "Text(0, 0.5, 'Error Rate')"
      ]
     },
     "execution_count": 36,
     "metadata": {},
     "output_type": "execute_result"
    },
    {
     "data": {
      "image/png": "[encoded data removed]",
      "text/plain": [
       "<Figure size 720x432 with 1 Axes>"
      ]
     },
     "metadata": {
      "needs_background": "light"
     },
     "output_type": "display_data"
    }
   ],
   "source": [
    "plt.figure(figsize=(10,6))\n",
    "plt.plot(range(1,50),error_rate,color='blue', linestyle='dashed', marker='o',\n",
    "         markerfacecolor='red', markersize=10)\n",
    "plt.title('Error Rate vs. K Value')\n",
    "plt.xlabel('K')\n",
    "plt.ylabel('Error Rate')"
   ]
  },
  {
   "cell_type": "code",
   "execution_count": 37,
   "metadata": {},
   "outputs": [
    {
     "name": "stdout",
     "output_type": "stream",
     "text": [
      "MAE: 42.148148148148145\n",
      "MSE: 3535.3333333333335\n",
      "RMSE: 59.45866911841648\n"
     ]
    }
   ],
   "source": [
    "# Lets choose k=33, by looking at elbow/Hit and Trail\n",
    "knn = KNeighborsClassifier(n_neighbors=33)\n",
    "\n",
    "knn.fit(X_train,y_train)\n",
    "predict_knn = knn.predict(X_test)\n",
    "prob_knn = knn.predict_proba(X_test)\n",
    "\n",
    "print('MAE:', metrics.mean_absolute_error(y_test, predict_knn))\n",
    "print('MSE:', metrics.mean_squared_error(y_test, predict_knn))\n",
    "print('RMSE:', np.sqrt(metrics.mean_squared_error(y_test, predict_knn)))"
   ]
  },
  {
   "cell_type": "code",
   "execution_count": 38,
   "metadata": {},
   "outputs": [
    {
     "data": {
      "text/plain": [
       "<matplotlib.axes._subplots.AxesSubplot at 0x2105dbfec88>"
      ]
     },
     "execution_count": 38,
     "metadata": {},
     "output_type": "execute_result"
    },
    {
     "data": {
      "image/png": "[encoded data removed]",
      "text/plain": [
       "<Figure size 432x288 with 1 Axes>"
      ]
     },
     "metadata": {
      "needs_background": "light"
     },
     "output_type": "display_data"
    }
   ],
   "source": [
    "sns.distplot((y_test-predict_knn),bins=50)"
   ]
  },
  {
   "cell_type": "code",
   "execution_count": null,
   "metadata": {},
   "outputs": [],
   "source": [
    "# Earlier value was classified\n",
    "#X_train, X_test, y_train, y_test = train_test_split(X, y, test_size=0.3, random_state=101)"
   ]
  },
  {
   "cell_type": "code",
   "execution_count": 39,
   "metadata": {},
   "outputs": [
    {
     "name": "stdout",
     "output_type": "stream",
     "text": [
      "MAE: 70.66666666666667\n",
      "MSE: 12836.37037037037\n",
      "RMSE: 113.29770681867471\n"
     ]
    }
   ],
   "source": [
    "from sklearn.ensemble import RandomForestClassifier\n",
    "rfc = RandomForestClassifier(n_estimators=100)\n",
    "rfc.fit(X_train, y_train)\n",
    "predict_rfc = rfc.predict(X_test)\n",
    "prob_rfc = rfc.predict_proba(X_test)\n",
    "print('MAE:', metrics.mean_absolute_error(y_test, predict_rfc))\n",
    "print('MSE:', metrics.mean_squared_error(y_test, predict_rfc))\n",
    "print('RMSE:', np.sqrt(metrics.mean_squared_error(y_test, predict_rfc)))"
   ]
  },
  {
   "cell_type": "code",
   "execution_count": 40,
   "metadata": {},
   "outputs": [
    {
     "data": {
      "text/plain": [
       "<matplotlib.axes._subplots.AxesSubplot at 0x2105dac42b0>"
      ]
     },
     "execution_count": 40,
     "metadata": {},
     "output_type": "execute_result"
    },
    {
     "data": {
      "image/png": "[encoded data removed]",
      "text/plain": [
       "<Figure size 432x288 with 1 Axes>"
      ]
     },
     "metadata": {
      "needs_background": "light"
     },
     "output_type": "display_data"
    }
   ],
   "source": [
    "sns.distplot((y_test-predict_rfc),bins=50)"
   ]
  },
  {
   "cell_type": "code",
   "execution_count": 41,
   "metadata": {},
   "outputs": [
    {
     "data": {
      "text/plain": [
       "array([[0.01995031, 0.0100929 , 0.00437241, ..., 0.01816346, 0.00298587,\n",
       "        0.01632645],\n",
       "       [0.01366162, 0.01524924, 0.03452406, ..., 0.01459565, 0.02600493,\n",
       "        0.00292507],\n",
       "       [0.01631831, 0.00385861, 0.00585272, ..., 0.01570799, 0.03019698,\n",
       "        0.00467213],\n",
       "       ...,\n",
       "       [0.02195196, 0.01119279, 0.01718005, ..., 0.0139089 , 0.00318188,\n",
       "        0.01053397],\n",
       "       [0.00632974, 0.02890315, 0.00383576, ..., 0.00456459, 0.008892  ,\n",
       "        0.00493844],\n",
       "       [0.0266743 , 0.00499018, 0.03262955, ..., 0.01490784, 0.01563567,\n",
       "        0.00269491]])"
      ]
     },
     "execution_count": 41,
     "metadata": {},
     "output_type": "execute_result"
    },
    {
     "data": {
      "image/png": "[encoded data removed]",
      "text/plain": [
       "<Figure size 432x288 with 2 Axes>"
      ]
     },
     "metadata": {
      "needs_background": "light"
     },
     "output_type": "display_data"
    }
   ],
   "source": [
    "# Shows probablity of correctness once ensembling is done\n",
    "final_prob = (prob_knn + prob_log + prob_rfc)/3 \n",
    "sns.heatmap(final_prob)\n",
    "final_prob\n",
    "\n",
    "# More brighter, better results"
   ]
  },
  {
   "cell_type": "code",
   "execution_count": 42,
   "metadata": {},
   "outputs": [
    {
     "name": "stdout",
     "output_type": "stream",
     "text": [
      "MAE: 39.20987654320987\n",
      "MSE: 3107.1687242798357\n",
      "RMSE: 55.74198349789713\n"
     ]
    }
   ],
   "source": [
    "# Averaging Ensemble Technique\n",
    "predict_ensemble=(predict_knn+predict_log+predict_rfc)/3\n",
    "print('MAE:', metrics.mean_absolute_error(y_test, predict_ensemble))\n",
    "print('MSE:', metrics.mean_squared_error(y_test, predict_ensemble))\n",
    "print('RMSE:', np.sqrt(metrics.mean_squared_error(y_test, predict_ensemble)))"
   ]
  },
  {
   "cell_type": "code",
   "execution_count": 43,
   "metadata": {},
   "outputs": [
    {
     "data": {
      "text/plain": [
       "<matplotlib.axes._subplots.AxesSubplot at 0x2105ee317f0>"
      ]
     },
     "execution_count": 43,
     "metadata": {},
     "output_type": "execute_result"
    },
    {
     "data": {
      "image/png": "[encoded data removed]",
      "text/plain": [
       "<Figure size 432x288 with 1 Axes>"
      ]
     },
     "metadata": {
      "needs_background": "light"
     },
     "output_type": "display_data"
    }
   ],
   "source": [
    "sns.distplot((y_test- predict_ensemble),bins=50)"
   ]
  },
  {
   "cell_type": "markdown",
   "metadata": {},
   "source": [
    "### Now we have 4 models ready\n",
    "1. Logistic Regression\n",
    "2. KNN\n",
    "3. Random Forest\n",
    "4. Ensemble model\n",
    "\n",
    "##### We will compare all these model among eachother and the predicted data given from an already created model"
   ]
  },
  {
   "cell_type": "code",
   "execution_count": 44,
   "metadata": {},
   "outputs": [],
   "source": [
    "MAE =[metrics.mean_absolute_error(y_test, predict_log),\n",
    "   metrics.mean_absolute_error(y_test, predict_knn),\n",
    "   metrics.mean_absolute_error(y_test, predict_rfc),\n",
    "   metrics.mean_absolute_error(y_test, predict_ensemble)]\n",
    "\n",
    "MSE = [metrics.mean_squared_error(y_test, predict_log),\n",
    "                               metrics.mean_squared_error(y_test, predict_knn),\n",
    "                               metrics.mean_squared_error(y_test, predict_rfc),\n",
    "                               metrics.mean_squared_error(y_test, predict_ensemble)\n",
    "                               ]\n",
    "\n",
    "RMSE = [np.sqrt(metrics.mean_squared_error(y_test, predict_log)),\n",
    "                               np.sqrt(metrics.mean_squared_error(y_test, predict_knn)),\n",
    "                                np.sqrt(metrics.mean_squared_error(y_test, predict_rfc)),\n",
    "                                np.sqrt(metrics.mean_squared_error(y_test, predict_ensemble))\n",
    "                               ]"
   ]
  },
  {
   "cell_type": "code",
   "execution_count": 45,
   "metadata": {},
   "outputs": [
    {
     "data": {
      "text/html": [
       "<div>\n",
       "<style scoped>\n",
       "    .dataframe tbody tr th:only-of-type {\n",
       "        vertical-align: middle;\n",
       "    }\n",
       "\n",
       "    .dataframe tbody tr th {\n",
       "        vertical-align: top;\n",
       "    }\n",
       "\n",
       "    .dataframe thead th {\n",
       "        text-align: right;\n",
       "    }\n",
       "</style>\n",
       "<table border=\"1\" class=\"dataframe\">\n",
       "  <thead>\n",
       "    <tr style=\"text-align: right;\">\n",
       "      <th></th>\n",
       "      <th>Model</th>\n",
       "      <th>MAE</th>\n",
       "      <th>MSE</th>\n",
       "      <th>RMSE</th>\n",
       "    </tr>\n",
       "  </thead>\n",
       "  <tbody>\n",
       "    <tr>\n",
       "      <th>0</th>\n",
       "      <td>Logistic Regression</td>\n",
       "      <td>58.666667</td>\n",
       "      <td>6148.740741</td>\n",
       "      <td>78.413907</td>\n",
       "    </tr>\n",
       "    <tr>\n",
       "      <th>1</th>\n",
       "      <td>KNN</td>\n",
       "      <td>42.148148</td>\n",
       "      <td>3535.333333</td>\n",
       "      <td>59.458669</td>\n",
       "    </tr>\n",
       "    <tr>\n",
       "      <th>2</th>\n",
       "      <td>Random Forest</td>\n",
       "      <td>70.666667</td>\n",
       "      <td>12836.370370</td>\n",
       "      <td>113.297707</td>\n",
       "    </tr>\n",
       "    <tr>\n",
       "      <th>3</th>\n",
       "      <td>Ensemble</td>\n",
       "      <td>39.209877</td>\n",
       "      <td>3107.168724</td>\n",
       "      <td>55.741983</td>\n",
       "    </tr>\n",
       "  </tbody>\n",
       "</table>\n",
       "</div>"
      ],
      "text/plain": [
       "                 Model        MAE           MSE        RMSE\n",
       "0  Logistic Regression  58.666667   6148.740741   78.413907\n",
       "1                  KNN  42.148148   3535.333333   59.458669\n",
       "2        Random Forest  70.666667  12836.370370  113.297707\n",
       "3             Ensemble  39.209877   3107.168724   55.741983"
      ]
     },
     "execution_count": 45,
     "metadata": {},
     "output_type": "execute_result"
    }
   ],
   "source": [
    "Results=pd.DataFrame()\n",
    "Results['Model'] = ['Logistic Regression','KNN','Random Forest','Ensemble']\n",
    "Results['MAE'] = MAE\n",
    "Results['MSE'] = MSE\n",
    "Results['RMSE'] = RMSE\n",
    "Results"
   ]
  },
  {
   "cell_type": "code",
   "execution_count": 51,
   "metadata": {},
   "outputs": [
    {
     "data": {
      "text/plain": [
       "<matplotlib.axes._subplots.AxesSubplot at 0x21060e72978>"
      ]
     },
     "execution_count": 51,
     "metadata": {},
     "output_type": "execute_result"
    },
    {
     "data": {
      "image/png": "[encoded data removed]",
      "text/plain": [
       "<Figure size 432x288 with 1 Axes>"
      ]
     },
     "metadata": {
      "needs_background": "light"
     },
     "output_type": "display_data"
    }
   ],
   "source": [
    "sns.barplot(x='Model',y='MSE',data=Results)"
   ]
  },
  {
   "cell_type": "code",
   "execution_count": 47,
   "metadata": {},
   "outputs": [
    {
     "data": {
      "text/html": [
       "        <script type=\"text/javascript\">\n",
       "        window.PlotlyConfig = {MathJaxConfig: 'local'};\n",
       "        if (window.MathJax) {MathJax.Hub.Config({SVG: {font: \"STIX-Web\"}});}\n",
       "        if (typeof require !== 'undefined') {\n",
       "        require.undef(\"plotly\");\n",
       "        requirejs.config({\n",
       "            paths: {\n",
       "                'plotly': ['https://cdn.plot.ly/plotly-latest.min']\n",
       "            }\n",
       "        });\n",
       "        require(['plotly'], function(Plotly) {\n",
       "            window._Plotly = Plotly;\n",
       "        });\n",
       "        }\n",
       "        </script>\n",
       "        "
      ]
     },
     "metadata": {},
     "output_type": "display_data"
    }
   ],
   "source": [
    "from plotly import __version__\n",
    "from plotly.offline import download_plotlyjs, init_notebook_mode, plot, iplot\n",
    "import cufflinks as cf\n",
    "cf.go_offline()"
   ]
  },
  {
   "cell_type": "code",
   "execution_count": 52,
   "metadata": {},
   "outputs": [
    {
     "data": {
      "application/vnd.plotly.v1+json": {
       "config": {
        "linkText": "Export to plot.ly",
        "plotlyServerURL": "https://plot.ly",
        "showLink": true
       },
       "data": [
        {
         "marker": {
          "color": "rgba(255, 153, 51, 0.6)",
          "line": {
           "color": "rgba(255, 153, 51, 1.0)",
           "width": 1
          }
         },
         "name": "RMSE",
         "orientation": "v",
         "text": "",
         "type": "bar",
         "uid": "33ffc6a5-24e5-467b-b5a6-9fa4acd62628",
         "x": [
          "Logistic Regression",
          "KNN",
          "Random Forest",
          "Ensemble"
         ],
         "y": [
          78.41390655196781,
          59.45866911841648,
          113.29770681867471,
          55.74198349789713
         ]
        }
       ],
       "layout": {
        "legend": {
         "bgcolor": "#F5F6F9",
         "font": {
          "color": "#4D5663"
         }
        },
        "paper_bgcolor": "#F5F6F9",
        "plot_bgcolor": "#F5F6F9",
        "title": {
         "font": {
          "color": "#4D5663"
         },
         "text": "Comparing RMSE of different models"
        },
        "xaxis": {
         "gridcolor": "#E1E5ED",
         "showgrid": true,
         "tickfont": {
          "color": "#4D5663"
         },
         "title": {
          "font": {
           "color": "#4D5663"
          },
          "text": "Models"
         },
         "zerolinecolor": "#E1E5ED"
        },
        "yaxis": {
         "gridcolor": "#E1E5ED",
         "showgrid": true,
         "tickfont": {
          "color": "#4D5663"
         },
         "title": {
          "font": {
           "color": "#4D5663"
          },
          "text": "Root Mean Squared Error"
         },
         "zerolinecolor": "#E1E5ED"
        }
       }
      },
      "text/html": [
       "<div>\n",
       "        \n",
       "        \n",
       "            <div id=\"ee02cac1-e944-4c51-8ff2-cf2c9a7f44fc\" class=\"plotly-graph-div\" style=\"height:525px; width:100%;\"></div>\n",
       "            <script type=\"text/javascript\">\n",
       "                require([\"plotly\"], function(Plotly) {\n",
       "                    window.PLOTLYENV=window.PLOTLYENV || {};\n",
       "                    window.PLOTLYENV.BASE_URL='https://plot.ly';\n",
       "                    \n",
       "                if (document.getElementById(\"ee02cac1-e944-4c51-8ff2-cf2c9a7f44fc\")) {\n",
       "                    Plotly.newPlot(\n",
       "                        'ee02cac1-e944-4c51-8ff2-cf2c9a7f44fc',\n",
       "                        [{\"marker\": {\"color\": \"rgba(255, 153, 51, 0.6)\", \"line\": {\"color\": \"rgba(255, 153, 51, 1.0)\", \"width\": 1}}, \"name\": \"RMSE\", \"orientation\": \"v\", \"text\": \"\", \"type\": \"bar\", \"uid\": \"33ffc6a5-24e5-467b-b5a6-9fa4acd62628\", \"x\": [\"Logistic Regression\", \"KNN\", \"Random Forest\", \"Ensemble\"], \"y\": [78.41390655196781, 59.45866911841648, 113.29770681867471, 55.74198349789713]}],\n",
       "                        {\"legend\": {\"bgcolor\": \"#F5F6F9\", \"font\": {\"color\": \"#4D5663\"}}, \"paper_bgcolor\": \"#F5F6F9\", \"plot_bgcolor\": \"#F5F6F9\", \"title\": {\"font\": {\"color\": \"#4D5663\"}, \"text\": \"Comparing RMSE of different models\"}, \"xaxis\": {\"gridcolor\": \"#E1E5ED\", \"showgrid\": true, \"tickfont\": {\"color\": \"#4D5663\"}, \"title\": {\"font\": {\"color\": \"#4D5663\"}, \"text\": \"Models\"}, \"zerolinecolor\": \"#E1E5ED\"}, \"yaxis\": {\"gridcolor\": \"#E1E5ED\", \"showgrid\": true, \"tickfont\": {\"color\": \"#4D5663\"}, \"title\": {\"font\": {\"color\": \"#4D5663\"}, \"text\": \"Root Mean Squared Error\"}, \"zerolinecolor\": \"#E1E5ED\"}},\n",
       "                        {\"showLink\": true, \"linkText\": \"Export to plot.ly\", \"plotlyServerURL\": \"https://plot.ly\", \"responsive\": true}\n",
       "                    ).then(function(){\n",
       "                            \n",
       "var gd = document.getElementById('ee02cac1-e944-4c51-8ff2-cf2c9a7f44fc');\n",
       "var x = new MutationObserver(function (mutations, observer) {{\n",
       "        var display = window.getComputedStyle(gd).display;\n",
       "        if (!display || display === 'none') {{\n",
       "            console.log([gd, 'removed!']);\n",
       "            Plotly.purge(gd);\n",
       "            observer.disconnect();\n",
       "        }}\n",
       "}});\n",
       "\n",
       "// Listen for the removal of the full notebook cells\n",
       "var notebookContainer = gd.closest('#notebook-container');\n",
       "if (notebookContainer) {{\n",
       "    x.observe(notebookContainer, {childList: true});\n",
       "}}\n",
       "\n",
       "// Listen for the clearing of the current output cell\n",
       "var outputEl = gd.closest('.output');\n",
       "if (outputEl) {{\n",
       "    x.observe(outputEl, {childList: true});\n",
       "}}\n",
       "\n",
       "                        })\n",
       "                };\n",
       "                });\n",
       "            </script>\n",
       "        </div>"
      ]
     },
     "metadata": {},
     "output_type": "display_data"
    }
   ],
   "source": [
    "Results.iplot(kind='bar',x='Model',y='RMSE',title='Comparing RMSE of different models', xTitle='Models', yTitle='Root Mean Squared Error')"
   ]
  },
  {
   "cell_type": "code",
   "execution_count": 50,
   "metadata": {},
   "outputs": [
    {
     "data": {
      "text/plain": [
       "<matplotlib.axes._subplots.AxesSubplot at 0x21060e061d0>"
      ]
     },
     "execution_count": 50,
     "metadata": {},
     "output_type": "execute_result"
    },
    {
     "data": {
      "image/png": "[encoded data removed]",
      "text/plain": [
       "<Figure size 432x288 with 1 Axes>"
      ]
     },
     "metadata": {
      "needs_background": "light"
     },
     "output_type": "display_data"
    }
   ],
   "source": [
    "# Comparing 4 models on basis of MAE\n",
    "sns.barplot(x='Model',y='MAE',data=Results)"
   ]
  },
  {
   "cell_type": "markdown",
   "metadata": {},
   "source": [
    "### So we can see that Averaging Ensemble model is much more efficient than the previously predicted model.\n",
    "\n",
    "### Now lets check using **Blending Ensemble** model"
   ]
  },
  {
   "cell_type": "code",
   "execution_count": 53,
   "metadata": {},
   "outputs": [],
   "source": [
    "# Creating one validation set\n",
    "\n",
    "X_train, X_test, y_train, y_test = train_test_split(pd.DataFrame(scaled_features), y, test_size=0.2, random_state=101)\n",
    "\n",
    "X_train, X_val, y_train, y_val = train_test_split(X_train, y_train, test_size=0.2, random_state=101) # validation"
   ]
  },
  {
   "cell_type": "code",
   "execution_count": 54,
   "metadata": {},
   "outputs": [],
   "source": [
    "#model1 = \n",
    "rfc.fit(X_train, y_train)\n",
    "val_pred_rfc=rfc.predict(X_val)\n",
    "test_pred_rfc=rfc.predict(X_test)\n",
    "#val_pred_rfc=pd.DataFrame(rfc.predict(X_val))\n",
    "#test_pred_rfc=pd.DataFrame(rfc.predict(X_test))\n",
    "\n",
    "#model2 = KNeighborsClassifier()\n",
    "knn.fit(X_train,y_train)\n",
    "val_pred_knn=knn.predict(X_val)\n",
    "test_pred_knn=knn.predict(X_test)\n",
    "#val_pred_knn=pd.DataFrame(val_pred_knn)\n",
    "#test_pred_knn=pd.DataFrame(test_pred_knn)"
   ]
  },
  {
   "cell_type": "code",
   "execution_count": 56,
   "metadata": {},
   "outputs": [],
   "source": [
    "#df_val=pd.concat([X_val, val_pred_rfc,val_pred_knn],axis=1)\n",
    "df_val = X_val\n",
    "df_val['pred_rfc']=val_pred_rfc\n",
    "df_val['pred_knn']=val_pred_knn\n",
    "#df_test=pd.concat([X_test, test_pred_rfc,test_pred_knn],axis=1)\n",
    "df_test = X_test\n",
    "df_test['pred_rfc']=test_pred_rfc\n",
    "df_test['pred_knn']=test_pred_knn\n"
   ]
  },
  {
   "cell_type": "code",
   "execution_count": 57,
   "metadata": {},
   "outputs": [
    {
     "name": "stderr",
     "output_type": "stream",
     "text": [
      "C:\\Users\\Subham\\Anaconda3\\lib\\site-packages\\sklearn\\linear_model\\logistic.py:432: FutureWarning:\n",
      "\n",
      "Default solver will be changed to 'lbfgs' in 0.22. Specify a solver to silence this warning.\n",
      "\n",
      "C:\\Users\\Subham\\Anaconda3\\lib\\site-packages\\sklearn\\linear_model\\logistic.py:469: FutureWarning:\n",
      "\n",
      "Default multi_class will be changed to 'auto' in 0.22. Specify the multi_class option to silence this warning.\n",
      "\n"
     ]
    }
   ],
   "source": [
    "#model = LogisticRegression()\n",
    "logmodel.fit(df_val,y_val)  # training the model based on validation set\n",
    "#logmodel.score(df_test,y_test) #score based on test set\n",
    "blending_predict=logmodel.predict(df_test)"
   ]
  },
  {
   "cell_type": "code",
   "execution_count": 58,
   "metadata": {},
   "outputs": [
    {
     "name": "stdout",
     "output_type": "stream",
     "text": [
      "MAE: 55.388888888888886\n",
      "MSE: 5441.055555555556\n",
      "RMSE: 73.76351100344638\n"
     ]
    }
   ],
   "source": [
    "print('MAE:', metrics.mean_absolute_error(y_test,blending_predict))\n",
    "print('MSE:', metrics.mean_squared_error(y_test, blending_predict))\n",
    "print('RMSE:', np.sqrt(metrics.mean_squared_error(y_test, blending_predict)))"
   ]
  },
  {
   "cell_type": "markdown",
   "metadata": {},
   "source": [
    "### Lets stick to averaging ensemblimg model which is performing better than blending model"
   ]
  },
  {
   "cell_type": "code",
   "execution_count": null,
   "metadata": {},
   "outputs": [],
   "source": []
  }
 ],
 "metadata": {
  "kernelspec": {
   "display_name": "Python 3",
   "language": "python",
   "name": "python3"
  },
  "language_info": {
   "codemirror_mode": {
    "name": "ipython",
    "version": 3
   },
   "file_extension": ".py",
   "mimetype": "text/x-python",
   "name": "python",
   "nbconvert_exporter": "python",
   "pygments_lexer": "ipython3",
   "version": "3.7.0"
  }
 },
 "nbformat": 4,
 "nbformat_minor": 2
}
